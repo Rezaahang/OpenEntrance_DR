{
 "cells": [
  {
   "cell_type": "markdown",
   "metadata": {},
   "source": [
    "# Data Aggregation over node DE (Germany) "
   ]
  },
  {
   "cell_type": "code",
   "execution_count": 1,
   "metadata": {},
   "outputs": [],
   "source": [
    "import pandas as pd\n",
    "import numpy as np"
   ]
  },
  {
   "cell_type": "code",
   "execution_count": 2,
   "metadata": {},
   "outputs": [],
   "source": [
    "df = pd.read_csv(r'C:/Users/mohaa/Desktop/Open Entrance/DR data/theoretical_potential.V1.csv', parse_dates=[\"subannual\"])"
   ]
  },
  {
   "cell_type": "markdown",
   "metadata": {},
   "source": [
    "Changing the name of regions that belong to Germany  "
   ]
  },
  {
   "cell_type": "code",
   "execution_count": 3,
   "metadata": {},
   "outputs": [],
   "source": [
    "df[\"region\"] = np.where(df[\"region\"].str.startswith(\"DE\"), \"DE\",df[\"region\"])"
   ]
  },
  {
   "cell_type": "markdown",
   "metadata": {},
   "source": [
    "Considering an appliance with two features; dispatch and reduction"
   ]
  },
  {
   "cell_type": "code",
   "execution_count": 4,
   "metadata": {},
   "outputs": [],
   "source": [
    "Germany_DishWasher_Dispatch_FirstHour_FirstMonth = df[\"2020\"][(df[\"subannual\"] == \"01-01 00:00+01:00\") & (df[\"region\"] == \"DE\") & (df[\"variable\"] == \"Demand Response|Maximum Dispatch|Load Shifting|Electricity|Residential|Dish Washer\")]\n",
    "Germany_DishWasher_Dispatch_FirstHour_FirstMonth_OneNode = Germany_DishWasher_Dispatch_FirstHour_FirstMonth.sum(axis=0)\n"
   ]
  },
  {
   "cell_type": "code",
   "execution_count": 5,
   "metadata": {},
   "outputs": [
    {
     "name": "stdout",
     "output_type": "stream",
     "text": [
      "The sum of DishWasher_DR_Dispatch potential in Germany (Hour 1, Month 1): MW 5703409.604428828\n"
     ]
    }
   ],
   "source": [
    "print(\"The sum of DishWasher_DR_Dispatch potential in Germany (Hour 1, Month 1): MW\",Germany_DishWasher_Dispatch_FirstHour_FirstMonth_OneNode)\n"
   ]
  },
  {
   "cell_type": "code",
   "execution_count": 6,
   "metadata": {},
   "outputs": [],
   "source": [
    "Germany_DishWasher_Reduction_FirstHour_FirstMonth = df[\"2020\"][(df[\"subannual\"] == \"01-01 00:00+01:00\") & (df[\"region\"] == \"DE\") & (df[\"variable\"] == \"Demand Response|Maximum Reduction|Load Shifting|Electricity|Residential|Dish Washer\")]\n",
    "Germany_DishWasher_Reduction_FirstHour_FirstMonth_OneNode = Germany_DishWasher_Reduction_FirstHour_FirstMonth.sum(axis=0)"
   ]
  },
  {
   "cell_type": "code",
   "execution_count": 7,
   "metadata": {},
   "outputs": [
    {
     "name": "stdout",
     "output_type": "stream",
     "text": [
      "The sum of DishWasher_DR_Reduction potential in Germany (Hour 1, Month 1): MW 174.5631612869975\n"
     ]
    }
   ],
   "source": [
    "print(\"The sum of DishWasher_DR_Reduction potential in Germany (Hour 1, Month 1): MW\",Germany_DishWasher_Reduction_FirstHour_FirstMonth_OneNode)"
   ]
  },
  {
   "cell_type": "markdown",
   "metadata": {},
   "source": [
    "If I am correct, in Germany we are able to use Dish Washer to shift  5.7 TW from \"01-01 00:00+01:00\" to next hours up to \"01-01 06:00+01:00\" (Load shifting). What does DR load intervention mean in this case (from metaData it's inf.)? Is it realistic to have this size of DR potentioal from Dish Washer for only one hour (5.7 TW) ?  "
   ]
  },
  {
   "cell_type": "markdown",
   "metadata": {},
   "source": [
    "In addition, we can use Dish Washer for load shedding, which is around 174 MW at this node and specific hour. Is it correct?"
   ]
  },
  {
   "cell_type": "markdown",
   "metadata": {},
   "source": [
    "If I am correct, how much is the cost of load shedding?\n"
   ]
  },
  {
   "cell_type": "code",
   "execution_count": null,
   "metadata": {},
   "outputs": [],
   "source": []
  }
 ],
 "metadata": {
  "kernelspec": {
   "display_name": "Python 3",
   "language": "python",
   "name": "python3"
  },
  "language_info": {
   "codemirror_mode": {
    "name": "ipython",
    "version": 3
   },
   "file_extension": ".py",
   "mimetype": "text/x-python",
   "name": "python",
   "nbconvert_exporter": "python",
   "pygments_lexer": "ipython3",
   "version": "3.6.5"
  }
 },
 "nbformat": 4,
 "nbformat_minor": 4
}
